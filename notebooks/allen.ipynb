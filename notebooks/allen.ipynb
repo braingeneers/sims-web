{
 "cells": [
  {
   "cell_type": "markdown",
   "id": "d802dc03",
   "metadata": {},
   "source": [
    "# Allen Brain Dataset\n"
   ]
  },
  {
   "cell_type": "code",
   "execution_count": 3,
   "id": "4f4be786",
   "metadata": {},
   "outputs": [],
   "source": [
    "import pandas as pd\n",
    "import numpy as np\n",
    "import torch\n",
    "import torch.onnx\n",
    "import anndata\n",
    "import onnx\n",
    "import onnxruntime as ort\n",
    "from scsims import SIMS\n",
    "import scanpy as sc"
   ]
  },
  {
   "cell_type": "markdown",
   "id": "d3e85114",
   "metadata": {},
   "source": [
    "## Validate model and training dataset dimensions\n"
   ]
  },
  {
   "cell_type": "code",
   "execution_count": 4,
   "id": "b256f913",
   "metadata": {},
   "outputs": [
    {
     "name": "stderr",
     "output_type": "stream",
     "text": [
      "/Users/rcurrie/cell-space/venv/lib/python3.10/site-packages/sklearn/base.py:380: InconsistentVersionWarning: Trying to unpickle estimator LabelEncoder from version 1.2.2 when using version 1.6.1. This might lead to breaking code or invalid results. Use at your own risk. For more info please refer to:\n",
      "https://scikit-learn.org/stable/model_persistence.html#security-maintainability-limitations\n",
      "  warnings.warn(\n"
     ]
    },
    {
     "name": "stdout",
     "output_type": "stream",
     "text": [
      "Initializing network\n",
      "Initializing explain matrix\n"
     ]
    }
   ],
   "source": [
    "sims = SIMS(\n",
    "    weights_path=\"checkpoints/allen-celltypes+human-cortex+various-cortical-areas.ckpt\",\n",
    "    map_location=torch.device(\"cpu\"),\n",
    ")"
   ]
  },
  {
   "cell_type": "code",
   "execution_count": 5,
   "id": "6606f161",
   "metadata": {},
   "outputs": [],
   "source": [
    "adata_raw = anndata.read_h5ad(\n",
    "    \"checkpoints/allen-celltypes+human-cortex+various-cortical-areas.h5ad\"\n",
    ")\n",
    "\n",
    "adata = adata_raw.copy()\n",
    "sc.pp.filter_cells(adata, min_genes=100)\n",
    "sc.pp.filter_genes(adata, min_cells=3)\n",
    "sc.pp.normalize_total(adata)\n",
    "### Logarithmizing the data\n",
    "sc.pp.log1p(adata)\n",
    "sc.pp.scale(adata)"
   ]
  },
  {
   "cell_type": "code",
   "execution_count": 6,
   "id": "d3d2dc51",
   "metadata": {},
   "outputs": [
    {
     "name": "stdout",
     "output_type": "stream",
     "text": [
      "Model input shape: 48119\n",
      "Raw training h5ad num genes: 50281\n",
      "Processed training h5ad num genes: 48119\n"
     ]
    }
   ],
   "source": [
    "print(f\"Model input shape: {sims.model.input_dim}\")\n",
    "print(f\"Raw training h5ad num genes: {adata_raw.n_vars}\")\n",
    "print(f\"Processed training h5ad num genes: {adata.n_vars}\")"
   ]
  },
  {
   "cell_type": "markdown",
   "id": "0f2fc04c",
   "metadata": {},
   "source": [
    "## Compare python vs. onnx vs. ground truth labels"
   ]
  },
  {
   "cell_type": "code",
   "execution_count": 7,
   "id": "2ac03f41",
   "metadata": {},
   "outputs": [
    {
     "name": "stdout",
     "output_type": "stream",
     "text": [
      "Parsing inference data...\n"
     ]
    },
    {
     "name": "stderr",
     "output_type": "stream",
     "text": [
      "100%|██████████| 4/4 [00:28<00:00,  7.02s/it]\n"
     ]
    }
   ],
   "source": [
    "adata_subset = adata[:100, :]\n",
    "predictions = sims.predict(adata_subset)"
   ]
  },
  {
   "cell_type": "code",
   "execution_count": null,
   "id": "eb60f987",
   "metadata": {},
   "outputs": [
    {
     "name": "stdout",
     "output_type": "stream",
     "text": [
      "Predictions: ['Exclude' 'VIP' 'LAMP5' 'LAMP5' 'VIP' 'VIP' 'LAMP5' 'IT' 'IT' 'VIP']\n",
      "Ground Truth: ['Exclude', 'VIP', 'LAMP5', 'LAMP5', 'VIP', 'VIP', 'LAMP5', 'IT', 'IT', 'VIP']\n",
      "Categories (14, object): ['Astrocyte', 'Exclude', 'IT', 'L5/6 IT Car3', ..., 'PAX6', 'PVALB', 'SST', 'VIP']\n"
     ]
    }
   ],
   "source": []
  },
  {
   "cell_type": "code",
   "execution_count": 16,
   "id": "41278900",
   "metadata": {},
   "outputs": [],
   "source": [
    "session = ort.InferenceSession(\n",
    "    \"public/models/allen-celltypes+human-cortex+various-cortical-areas.onnx\"\n",
    ")\n",
    "\n",
    "onnx_predictions, onnx_encodings = session.run(\n",
    "    [\"topk_indices\", \"encoding\"], {\"input\": adata_subset.X}\n",
    ")"
   ]
  },
  {
   "cell_type": "code",
   "execution_count": 17,
   "id": "edb8f68e",
   "metadata": {},
   "outputs": [],
   "source": [
    "with open(\n",
    "    \"public/models/allen-celltypes+human-cortex+various-cortical-areas.classes\", \"r\"\n",
    ") as f:\n",
    "    classes = [line.strip() for line in f]"
   ]
  },
  {
   "cell_type": "code",
   "execution_count": 29,
   "id": "71de42f3",
   "metadata": {},
   "outputs": [
    {
     "name": "stdout",
     "output_type": "stream",
     "text": [
      "Python: ['Exclude' 'VIP' 'LAMP5' 'LAMP5' 'VIP' 'VIP' 'LAMP5' 'IT' 'IT' 'VIP']\n",
      "ONNX: ['Exclude', 'VIP', 'LAMP5', 'LAMP5', 'VIP', 'VIP', 'LAMP5', 'IT', 'IT', 'VIP']\n",
      "Ground: ['Exclude', 'VIP', 'LAMP5', 'LAMP5', 'VIP', 'VIP', 'LAMP5', 'IT', 'IT', 'VIP']\n",
      "Categories (14, object): ['Astrocyte', 'Exclude', 'IT', 'L5/6 IT Car3', ..., 'PAX6', 'PVALB', 'SST', 'VIP']\n"
     ]
    }
   ],
   "source": [
    "print(f\"Python: {predictions.pred_0.values[0:10]}\")\n",
    "print(f\"ONNX: {[classes[p[0]] for p in onnx_predictions[0:10]]}\")\n",
    "print(f\"Ground: {adata_subset.obs.subclass_label.values[0:10]}\")"
   ]
  }
 ],
 "metadata": {
  "kernelspec": {
   "display_name": "venv",
   "language": "python",
   "name": "python3"
  },
  "language_info": {
   "codemirror_mode": {
    "name": "ipython",
    "version": 3
   },
   "file_extension": ".py",
   "mimetype": "text/x-python",
   "name": "python",
   "nbconvert_exporter": "python",
   "pygments_lexer": "ipython3",
   "version": "3.10.16"
  }
 },
 "nbformat": 4,
 "nbformat_minor": 5
}
