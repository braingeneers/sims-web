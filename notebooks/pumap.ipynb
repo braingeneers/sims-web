{
 "cells": [
  {
   "cell_type": "markdown",
   "id": "98444189",
   "metadata": {},
   "source": [
    "# PUMAP\n",
    "\n",
    "Load, edit and test PUMAP ONNX model\n"
   ]
  },
  {
   "cell_type": "code",
   "execution_count": 4,
   "id": "8d19523f",
   "metadata": {},
   "outputs": [],
   "source": [
    "import onnxruntime as ort\n",
    "import onnx\n",
    "import anndata"
   ]
  },
  {
   "cell_type": "code",
   "execution_count": null,
   "id": "7a690d65",
   "metadata": {},
   "outputs": [],
   "source": [
    "# Change the model from fixed to variabe/batched inputs and outputs\n",
    "model = onnx.load(\n",
    "    \"../checkpoints/allen-celltypes+human-cortex+various-cortical-areas-pumap.onnx\"\n",
    ")\n",
    "\n",
    "model.graph.input[0].type.tensor_type.shape.dim[0].ClearField(\"dim_value\")\n",
    "model.graph.output[0].type.tensor_type.shape.dim[0].ClearField(\"dim_value\")\n",
    "\n",
    "ONNX_PATH = \"dynamic_model.onnx\"\n",
    "onnx.save(\n",
    "    model,\n",
    "    \"../public/models/allen-celltypes+human-cortex+various-cortical-areas-pumap.onnx\",\n",
    ")"
   ]
  }
 ],
 "metadata": {
  "kernelspec": {
   "display_name": "venv",
   "language": "python",
   "name": "python3"
  },
  "language_info": {
   "codemirror_mode": {
    "name": "ipython",
    "version": 3
   },
   "file_extension": ".py",
   "mimetype": "text/x-python",
   "name": "python",
   "nbconvert_exporter": "python",
   "pygments_lexer": "ipython3",
   "version": "3.10.16"
  }
 },
 "nbformat": 4,
 "nbformat_minor": 5
}
